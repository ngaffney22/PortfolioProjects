{
 "cells": [
  {
   "cell_type": "markdown",
   "id": "4e10fd7c",
   "metadata": {},
   "source": [
    "# Stock Market Web Scraper"
   ]
  },
  {
   "cell_type": "code",
   "execution_count": 48,
   "id": "d1084f07",
   "metadata": {},
   "outputs": [],
   "source": [
    "#importing needed packages \n",
    "import csv\n",
    "from bs4 import BeautifulSoup\n",
    "import requests"
   ]
  },
  {
   "cell_type": "markdown",
   "id": "3512899d",
   "metadata": {},
   "source": [
    "## Startup Webdriver "
   ]
  },
  {
   "cell_type": "code",
   "execution_count": 55,
   "id": "00f40c24",
   "metadata": {},
   "outputs": [],
   "source": [
    "mystocks = ['AMD','CERN','AAPL','INTC','T','F','XOM','NOK','X','MSFT','VZ','OXY']\n",
    "stockdata = []"
   ]
  },
  {
   "cell_type": "code",
   "execution_count": 49,
   "id": "abbe0a50",
   "metadata": {},
   "outputs": [],
   "source": [
    "#create function to scrape data based on stock symbol \n",
    "def getData(symbol):\n",
    "    headers= {'User-Agent': 'Mozilla/5.0 (Windows NT 10.0; Win64; x64) AppleWebKit/537.36 (KHTML, like Gecko) Chrome/99.0.4844.51 Safari/537.36'}\n",
    "    url = f'https://finance.yahoo.com/quote/{symbol}'\n",
    "    r = requests.get(url, headers=headers)\n",
    "    soup = BeautifulSoup(r.text, 'html.parser')\n",
    "    stock = {\n",
    "    'company' : soup.find('h1', {'class': 'D(ib) Fz(18px)'}).text,\n",
    "    'price' : soup.find('div', {'class':'D(ib) Mend(20px)'}).find_all('fin-streamer')[0].text,\n",
    "    'change' : soup.find('div', {'class':'D(ib) Mend(20px)'}).find_all('fin-streamer')[1].text,\n",
    "    'prct_change' : soup.find('div', {'class':'D(ib) Mend(20px)'}).find_all('fin-streamer')[2].text,\n",
    "    'est_return' : soup.find('div', {'class':'IbBox Ta(start) C($tertiaryColor)'}).text\n",
    "    }\n",
    "    return stock\n"
   ]
  },
  {
   "cell_type": "markdown",
   "id": "b7a22770",
   "metadata": {},
   "source": [
    "### Loop Through list of stock symbols using function\n",
    "write data into csv file"
   ]
  },
  {
   "cell_type": "code",
   "execution_count": 61,
   "id": "970dba90",
   "metadata": {},
   "outputs": [
    {
     "name": "stdout",
     "output_type": "stream",
     "text": [
      "[{'company': 'Advanced Micro Devices, Inc. (AMD)', 'price': '105.53', 'change': '+2.58', 'prct_change': '(+2.51%)', 'est_return': '6% Est. Return'}, {'company': 'Cerner Corporation (CERN)', 'price': '93.04', 'change': '-0.04', 'prct_change': '(-0.04%)', 'est_return': '-20% Est. Return'}, {'company': 'Apple Inc. (AAPL)', 'price': '157.44', 'change': '-1.86', 'prct_change': '(-1.17%)', 'est_return': '-12% Est. Return'}, {'company': 'Intel Corporation (INTC)', 'price': '47.50', 'change': '-0.18', 'prct_change': '(-0.38%)', 'est_return': '-2% Est. Return'}, {'company': 'AT&T Inc. (T)', 'price': '23.00', 'change': '-0.57', 'prct_change': '(-2.42%)', 'est_return': '-1% Est. Return'}, {'company': 'Ford Motor Company (F)', 'price': '16.03', 'change': '+0.06', 'prct_change': '(+0.38%)', 'est_return': '60% Est. Return'}, {'company': 'Exxon Mobil Corporation (XOM)', 'price': '87.78', 'change': '+0.66', 'prct_change': '(+0.76%)', 'est_return': '-16% Est. Return'}, {'company': 'Nokia Oyj (NOK)', 'price': '4.7100', 'change': '+0.1800', 'prct_change': '(+3.97%)', 'est_return': '-12% Est. Return'}, {'company': 'United States Steel Corporation (X)', 'price': '29.31', 'change': '-1.89', 'prct_change': '(-6.06%)', 'est_return': '36% Est. Return'}, {'company': 'Microsoft Corporation (MSFT)', 'price': '275.85', 'change': '-3.06', 'prct_change': '(-1.10%)', 'est_return': '-1% Est. Return'}, {'company': 'Verizon Communications Inc. (VZ)', 'price': '53.25', 'change': '-1.43', 'prct_change': '(-2.62%)', 'est_return': '2% Est. Return'}, {'company': 'Occidental Petroleum Corporation (OXY)', 'price': '54.60', 'change': '-0.78', 'prct_change': '(-1.41%)', 'est_return': '-19% Est. Return'}, {'company': 'Advanced Micro Devices, Inc. (AMD)', 'price': '105.53', 'change': '+2.58', 'prct_change': '(+2.51%)', 'est_return': '6% Est. Return'}, {'company': 'Cerner Corporation (CERN)', 'price': '93.04', 'change': '-0.04', 'prct_change': '(-0.04%)', 'est_return': '-20% Est. Return'}, {'company': 'Apple Inc. (AAPL)', 'price': '157.44', 'change': '-1.86', 'prct_change': '(-1.17%)', 'est_return': '-12% Est. Return'}, {'company': 'Intel Corporation (INTC)', 'price': '47.50', 'change': '-0.18', 'prct_change': '(-0.38%)', 'est_return': '-2% Est. Return'}, {'company': 'AT&T Inc. (T)', 'price': '23.00', 'change': '-0.57', 'prct_change': '(-2.42%)', 'est_return': '-1% Est. Return'}, {'company': 'Ford Motor Company (F)', 'price': '16.03', 'change': '+0.06', 'prct_change': '(+0.38%)', 'est_return': '60% Est. Return'}, {'company': 'Exxon Mobil Corporation (XOM)', 'price': '87.78', 'change': '+0.66', 'prct_change': '(+0.76%)', 'est_return': '-16% Est. Return'}, {'company': 'Nokia Oyj (NOK)', 'price': '4.7100', 'change': '+0.1800', 'prct_change': '(+3.97%)', 'est_return': '-12% Est. Return'}, {'company': 'United States Steel Corporation (X)', 'price': '29.31', 'change': '-1.89', 'prct_change': '(-6.06%)', 'est_return': '36% Est. Return'}, {'company': 'Microsoft Corporation (MSFT)', 'price': '275.85', 'change': '-3.06', 'prct_change': '(-1.10%)', 'est_return': '-1% Est. Return'}, {'company': 'Verizon Communications Inc. (VZ)', 'price': '53.25', 'change': '-1.43', 'prct_change': '(-2.62%)', 'est_return': '2% Est. Return'}, {'company': 'Occidental Petroleum Corporation (OXY)', 'price': '54.60', 'change': '-0.78', 'prct_change': '(-1.41%)', 'est_return': '-19% Est. Return'}]\n"
     ]
    }
   ],
   "source": [
    "for item in mystocks:\n",
    "    stockdata.append(getData(item))\n",
    "print(stockdata)"
   ]
  },
  {
   "cell_type": "code",
   "execution_count": 63,
   "id": "0746c235",
   "metadata": {},
   "outputs": [],
   "source": [
    "columns = ['company', 'price', 'change', 'prct_change', 'est_return']\n",
    "with open(\"stockdata.csv\",'w', newline=\"\") as outfile:\n",
    "    writer = csv.DictWriter(outfile, fieldnames = columns)\n",
    "    writer.writeheader()\n",
    "    writer.writerows(stockdata)"
   ]
  }
 ],
 "metadata": {
  "kernelspec": {
   "display_name": "Python 3 (ipykernel)",
   "language": "python",
   "name": "python3"
  },
  "language_info": {
   "codemirror_mode": {
    "name": "ipython",
    "version": 3
   },
   "file_extension": ".py",
   "mimetype": "text/x-python",
   "name": "python",
   "nbconvert_exporter": "python",
   "pygments_lexer": "ipython3",
   "version": "3.7.11"
  }
 },
 "nbformat": 4,
 "nbformat_minor": 5
}
